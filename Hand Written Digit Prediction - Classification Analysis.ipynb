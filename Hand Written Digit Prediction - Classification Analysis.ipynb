{
 "cells": [
  {
   "cell_type": "markdown",
   "id": "6f9d9d8f",
   "metadata": {},
   "source": [
    "# Hand Written Digit Prediction - Classification Analysis"
   ]
  },
  {
   "cell_type": "markdown",
   "id": "3357fdf1",
   "metadata": {},
   "source": [
    "The digits dataset consists of 8x8 pixel images of digits. The images attribute of the dataset stores 8x8 arrays of grayscale values for each\n",
    "image. We will use these arrays to visualize the first 4 images. The target attribute of the dataset stores the digit each image represents"
   ]
  },
  {
   "cell_type": "markdown",
   "id": "7f66e2a2",
   "metadata": {},
   "source": [
    "## Import Library"
   ]
  },
  {
   "cell_type": "code",
   "execution_count": 1,
   "id": "69c2dc89",
   "metadata": {},
   "outputs": [],
   "source": [
    "import pandas as pd"
   ]
  },
  {
   "cell_type": "code",
   "execution_count": 2,
   "id": "df1ef864",
   "metadata": {},
   "outputs": [],
   "source": [
    "import numpy as np"
   ]
  },
  {
   "cell_type": "code",
   "execution_count": 3,
   "id": "dc1188a8",
   "metadata": {},
   "outputs": [],
   "source": [
    "import matplotlib.pyplot as plt"
   ]
  },
  {
   "cell_type": "markdown",
   "id": "60f9528f",
   "metadata": {},
   "source": [
    "## Import Data"
   ]
  },
  {
   "cell_type": "code",
   "execution_count": 4,
   "id": "c5655c23",
   "metadata": {},
   "outputs": [],
   "source": [
    "from sklearn.datasets import load_digits"
   ]
  },
  {
   "cell_type": "code",
   "execution_count": 5,
   "id": "354b499a",
   "metadata": {},
   "outputs": [],
   "source": [
    "df = load_digits()"
   ]
  },
  {
   "cell_type": "code",
   "execution_count": 6,
   "id": "251d48ec",
   "metadata": {},
   "outputs": [
    {
     "data": {
      "image/png": "[encoded data removed]",
      "text/plain": [
       "<Figure size 1000x300 with 4 Axes>"
      ]
     },
     "metadata": {},
     "output_type": "display_data"
    }
   ],
   "source": [
    "_,axes = plt.subplots (nrows=1, ncols=4, figsize=(10, 3))\n",
    "for ax, image, label in zip(axes, df.images, df.target):\n",
    "    ax.set_axis_off()\n",
    "    ax.imshow(image, cmap=plt.cm.gray_r, interpolation=\"nearest\")\n",
    "    ax.set_title(\"Training: %i\" % label)"
   ]
  },
  {
   "cell_type": "markdown",
   "id": "f5a28eda",
   "metadata": {},
   "source": [
    "## Data Preprocessing"
   ]
  },
  {
   "cell_type": "code",
   "execution_count": null,
   "id": "5b767986",
   "metadata": {},
   "outputs": [],
   "source": []
  },
  {
   "cell_type": "code",
   "execution_count": 7,
   "id": "b628e8b2",
   "metadata": {},
   "outputs": [
    {
     "data": {
      "text/plain": [
       "(1797, 8, 8)"
      ]
     },
     "execution_count": 7,
     "metadata": {},
     "output_type": "execute_result"
    }
   ],
   "source": [
    "df.images.shape"
   ]
  },
  {
   "cell_type": "code",
   "execution_count": 8,
   "id": "755f9088",
   "metadata": {},
   "outputs": [
    {
     "data": {
      "text/plain": [
       "array([[ 0.,  0.,  5., 13.,  9.,  1.,  0.,  0.],\n",
       "       [ 0.,  0., 13., 15., 10., 15.,  5.,  0.],\n",
       "       [ 0.,  3., 15.,  2.,  0., 11.,  8.,  0.],\n",
       "       [ 0.,  4., 12.,  0.,  0.,  8.,  8.,  0.],\n",
       "       [ 0.,  5.,  8.,  0.,  0.,  9.,  8.,  0.],\n",
       "       [ 0.,  4., 11.,  0.,  1., 12.,  7.,  0.],\n",
       "       [ 0.,  2., 14.,  5., 10., 12.,  0.,  0.],\n",
       "       [ 0.,  0.,  6., 13., 10.,  0.,  0.,  0.]])"
      ]
     },
     "execution_count": 8,
     "metadata": {},
     "output_type": "execute_result"
    }
   ],
   "source": [
    "df.images[0]"
   ]
  },
  {
   "cell_type": "code",
   "execution_count": 9,
   "id": "6c8216f1",
   "metadata": {},
   "outputs": [
    {
     "data": {
      "text/plain": [
       "(8, 8)"
      ]
     },
     "execution_count": 9,
     "metadata": {},
     "output_type": "execute_result"
    }
   ],
   "source": [
    "df.images[0].shape"
   ]
  },
  {
   "cell_type": "code",
   "execution_count": 10,
   "id": "d6657e51",
   "metadata": {},
   "outputs": [
    {
     "data": {
      "text/plain": [
       "1797"
      ]
     },
     "execution_count": 10,
     "metadata": {},
     "output_type": "execute_result"
    }
   ],
   "source": [
    "len(df.images)"
   ]
  },
  {
   "cell_type": "code",
   "execution_count": 11,
   "id": "e5948839",
   "metadata": {},
   "outputs": [],
   "source": [
    "n_samples = len(df.images)\n",
    "data = df.images.reshape ((n_samples, -1))"
   ]
  },
  {
   "cell_type": "code",
   "execution_count": 12,
   "id": "7c594d44",
   "metadata": {},
   "outputs": [
    {
     "data": {
      "text/plain": [
       "array([ 0.,  0.,  5., 13.,  9.,  1.,  0.,  0.,  0.,  0., 13., 15., 10.,\n",
       "       15.,  5.,  0.,  0.,  3., 15.,  2.,  0., 11.,  8.,  0.,  0.,  4.,\n",
       "       12.,  0.,  0.,  8.,  8.,  0.,  0.,  5.,  8.,  0.,  0.,  9.,  8.,\n",
       "        0.,  0.,  4., 11.,  0.,  1., 12.,  7.,  0.,  0.,  2., 14.,  5.,\n",
       "       10., 12.,  0.,  0.,  0.,  0.,  6., 13., 10.,  0.,  0.,  0.])"
      ]
     },
     "execution_count": 12,
     "metadata": {},
     "output_type": "execute_result"
    }
   ],
   "source": [
    "data[0]"
   ]
  },
  {
   "cell_type": "code",
   "execution_count": 13,
   "id": "3c8241dd",
   "metadata": {},
   "outputs": [
    {
     "data": {
      "text/plain": [
       "(64,)"
      ]
     },
     "execution_count": 13,
     "metadata": {},
     "output_type": "execute_result"
    }
   ],
   "source": [
    "data[0].shape"
   ]
  },
  {
   "cell_type": "code",
   "execution_count": 14,
   "id": "f6ec479b",
   "metadata": {},
   "outputs": [
    {
     "data": {
      "text/plain": [
       "(1797, 64)"
      ]
     },
     "execution_count": 14,
     "metadata": {},
     "output_type": "execute_result"
    }
   ],
   "source": [
    "data.shape"
   ]
  },
  {
   "cell_type": "markdown",
   "id": "06a84ae4",
   "metadata": {},
   "source": [
    "# Scaling Image Data"
   ]
  },
  {
   "cell_type": "code",
   "execution_count": 15,
   "id": "0f8cd161",
   "metadata": {},
   "outputs": [
    {
     "data": {
      "text/plain": [
       "0.0"
      ]
     },
     "execution_count": 15,
     "metadata": {},
     "output_type": "execute_result"
    }
   ],
   "source": [
    "data.min()"
   ]
  },
  {
   "cell_type": "code",
   "execution_count": 16,
   "id": "0350da5a",
   "metadata": {},
   "outputs": [
    {
     "data": {
      "text/plain": [
       "16.0"
      ]
     },
     "execution_count": 16,
     "metadata": {},
     "output_type": "execute_result"
    }
   ],
   "source": [
    "data.max()"
   ]
  },
  {
   "cell_type": "code",
   "execution_count": 17,
   "id": "ca8b6069",
   "metadata": {},
   "outputs": [],
   "source": [
    "data=data/16"
   ]
  },
  {
   "cell_type": "code",
   "execution_count": 18,
   "id": "c40b8acb",
   "metadata": {},
   "outputs": [
    {
     "data": {
      "text/plain": [
       "0.0"
      ]
     },
     "execution_count": 18,
     "metadata": {},
     "output_type": "execute_result"
    }
   ],
   "source": [
    "data.min()"
   ]
  },
  {
   "cell_type": "code",
   "execution_count": 19,
   "id": "c064fd94",
   "metadata": {},
   "outputs": [
    {
     "data": {
      "text/plain": [
       "1.0"
      ]
     },
     "execution_count": 19,
     "metadata": {},
     "output_type": "execute_result"
    }
   ],
   "source": [
    "data.max()"
   ]
  },
  {
   "cell_type": "code",
   "execution_count": 20,
   "id": "f69a9122",
   "metadata": {},
   "outputs": [
    {
     "data": {
      "text/plain": [
       "array([0.    , 0.    , 0.3125, 0.8125, 0.5625, 0.0625, 0.    , 0.    ,\n",
       "       0.    , 0.    , 0.8125, 0.9375, 0.625 , 0.9375, 0.3125, 0.    ,\n",
       "       0.    , 0.1875, 0.9375, 0.125 , 0.    , 0.6875, 0.5   , 0.    ,\n",
       "       0.    , 0.25  , 0.75  , 0.    , 0.    , 0.5   , 0.5   , 0.    ,\n",
       "       0.    , 0.3125, 0.5   , 0.    , 0.    , 0.5625, 0.5   , 0.    ,\n",
       "       0.    , 0.25  , 0.6875, 0.    , 0.0625, 0.75  , 0.4375, 0.    ,\n",
       "       0.    , 0.125 , 0.875 , 0.3125, 0.625 , 0.75  , 0.    , 0.    ,\n",
       "       0.    , 0.    , 0.375 , 0.8125, 0.625 , 0.    , 0.    , 0.    ])"
      ]
     },
     "execution_count": 20,
     "metadata": {},
     "output_type": "execute_result"
    }
   ],
   "source": [
    "data[0]"
   ]
  },
  {
   "cell_type": "markdown",
   "id": "50d66bda",
   "metadata": {},
   "source": [
    "# Train Test Split Data"
   ]
  },
  {
   "cell_type": "code",
   "execution_count": 21,
   "id": "754a647b",
   "metadata": {},
   "outputs": [],
   "source": [
    "from sklearn.model_selection import train_test_split"
   ]
  },
  {
   "cell_type": "code",
   "execution_count": 22,
   "id": "e5e244db",
   "metadata": {},
   "outputs": [],
   "source": [
    "X_train, X_test, y_train, y_test= train_test_split(data, df.target, test_size=0.3)"
   ]
  },
  {
   "cell_type": "code",
   "execution_count": 23,
   "id": "0dcc5eeb",
   "metadata": {},
   "outputs": [
    {
     "data": {
      "text/plain": [
       "((1257, 64), (540, 64), (1257,), (540,))"
      ]
     },
     "execution_count": 23,
     "metadata": {},
     "output_type": "execute_result"
    }
   ],
   "source": [
    "X_train.shape, X_test.shape, y_train.shape, y_test.shape\n",
    "((1257, 64), (540, 64), (1257,), (540,))"
   ]
  },
  {
   "cell_type": "markdown",
   "id": "65f08a50",
   "metadata": {},
   "source": [
    "# Random Forest Model"
   ]
  },
  {
   "cell_type": "code",
   "execution_count": 24,
   "id": "a52454cb",
   "metadata": {},
   "outputs": [],
   "source": [
    "from sklearn.ensemble import RandomForestClassifier"
   ]
  },
  {
   "cell_type": "code",
   "execution_count": 25,
   "id": "2e363d7a",
   "metadata": {},
   "outputs": [],
   "source": [
    "rf = RandomForestClassifier()"
   ]
  },
  {
   "cell_type": "code",
   "execution_count": 26,
   "id": "cce40865",
   "metadata": {},
   "outputs": [
    {
     "data": {
      "text/plain": [
       "RandomForestClassifier()"
      ]
     },
     "execution_count": 26,
     "metadata": {},
     "output_type": "execute_result"
    }
   ],
   "source": [
    "rf.fit (X_train, y_train)"
   ]
  },
  {
   "cell_type": "markdown",
   "id": "76019875",
   "metadata": {},
   "source": [
    "# Predict Test Data"
   ]
  },
  {
   "cell_type": "code",
   "execution_count": 27,
   "id": "eff63503",
   "metadata": {},
   "outputs": [],
   "source": [
    "y_pred = rf.predict(X_test)"
   ]
  },
  {
   "cell_type": "code",
   "execution_count": 28,
   "id": "15c56264",
   "metadata": {},
   "outputs": [
    {
     "data": {
      "text/plain": [
       "array([8, 5, 1, 5, 1, 9, 1, 1, 3, 7, 0, 4, 8, 2, 8, 9, 5, 6, 7, 9, 6, 7,\n",
       "       2, 7, 8, 1, 7, 4, 4, 5, 2, 9, 1, 3, 7, 4, 4, 7, 7, 6, 3, 7, 7, 9,\n",
       "       0, 6, 7, 1, 1, 9, 2, 2, 0, 9, 4, 3, 7, 1, 3, 3, 2, 9, 9, 4, 9, 3,\n",
       "       6, 3, 1, 3, 1, 3, 4, 4, 5, 2, 8, 7, 0, 7, 3, 9, 9, 6, 2, 1, 1, 9,\n",
       "       1, 4, 6, 9, 6, 0, 8, 7, 2, 0, 8, 0, 7, 9, 2, 8, 0, 1, 7, 5, 8, 6,\n",
       "       7, 4, 5, 3, 1, 2, 0, 8, 9, 4, 5, 8, 2, 7, 7, 7, 0, 6, 7, 4, 4, 1,\n",
       "       1, 2, 8, 6, 0, 1, 8, 3, 6, 3, 1, 7, 5, 4, 6, 9, 3, 8, 1, 1, 9, 7,\n",
       "       0, 0, 4, 3, 0, 5, 8, 3, 5, 4, 1, 8, 8, 5, 2, 3, 1, 5, 1, 2, 5, 8,\n",
       "       7, 8, 1, 5, 0, 8, 5, 1, 8, 8, 6, 0, 1, 7, 7, 3, 8, 3, 9, 1, 0, 6,\n",
       "       4, 4, 6, 4, 8, 3, 6, 3, 8, 7, 8, 3, 4, 6, 9, 7, 8, 1, 7, 3, 2, 1,\n",
       "       4, 5, 2, 0, 6, 6, 6, 5, 0, 0, 1, 7, 9, 3, 5, 7, 2, 8, 4, 9, 5, 3,\n",
       "       0, 2, 5, 5, 1, 8, 1, 3, 3, 3, 4, 1, 0, 7, 0, 9, 2, 4, 3, 7, 6, 9,\n",
       "       8, 3, 8, 2, 5, 8, 8, 1, 7, 1, 2, 9, 4, 2, 1, 8, 9, 8, 9, 6, 3, 8,\n",
       "       4, 0, 1, 3, 8, 9, 4, 2, 5, 1, 6, 0, 8, 8, 5, 5, 0, 0, 7, 8, 3, 6,\n",
       "       2, 5, 4, 6, 2, 6, 0, 7, 4, 6, 5, 4, 2, 7, 6, 8, 2, 1, 3, 6, 6, 3,\n",
       "       6, 4, 5, 9, 2, 3, 8, 2, 0, 5, 7, 6, 1, 4, 0, 2, 9, 2, 4, 1, 7, 4,\n",
       "       1, 3, 6, 3, 8, 1, 1, 4, 5, 1, 8, 5, 6, 5, 0, 1, 5, 8, 0, 5, 7, 9,\n",
       "       8, 4, 1, 5, 2, 0, 2, 1, 4, 5, 2, 0, 1, 5, 4, 2, 6, 6, 9, 6, 3, 9,\n",
       "       7, 4, 7, 7, 8, 2, 1, 2, 1, 7, 4, 4, 4, 1, 4, 2, 5, 3, 5, 7, 2, 8,\n",
       "       5, 2, 0, 5, 1, 5, 6, 9, 3, 8, 8, 6, 6, 9, 9, 3, 1, 2, 4, 2, 2, 9,\n",
       "       6, 4, 7, 8, 0, 5, 9, 2, 6, 3, 8, 4, 1, 8, 6, 9, 3, 9, 9, 3, 7, 6,\n",
       "       3, 5, 8, 5, 0, 2, 3, 0, 5, 6, 8, 1, 2, 0, 8, 9, 6, 9, 1, 3, 5, 6,\n",
       "       6, 1, 4, 9, 0, 0, 0, 4, 3, 5, 8, 9, 7, 3, 5, 3, 1, 4, 2, 1, 9, 9,\n",
       "       8, 3, 2, 8, 5, 7, 1, 5, 1, 4, 9, 4, 0, 0, 9, 7, 3, 3, 5, 6, 3, 7,\n",
       "       1, 1, 6, 8, 4, 9, 3, 8, 8, 4, 5, 3])"
      ]
     },
     "execution_count": 28,
     "metadata": {},
     "output_type": "execute_result"
    }
   ],
   "source": [
    "y_pred"
   ]
  },
  {
   "cell_type": "markdown",
   "id": "1a2bd150",
   "metadata": {},
   "source": [
    "# Model Accuracy"
   ]
  },
  {
   "cell_type": "code",
   "execution_count": 29,
   "id": "b2c84c89",
   "metadata": {},
   "outputs": [],
   "source": [
    "from sklearn.metrics import confusion_matrix, classification_report"
   ]
  },
  {
   "cell_type": "code",
   "execution_count": 30,
   "id": "1a3ec3f3",
   "metadata": {},
   "outputs": [
    {
     "data": {
      "text/plain": [
       "array([[43,  0,  0,  0,  0,  0,  0,  0,  0,  0],\n",
       "       [ 0, 64,  1,  0,  0,  0,  0,  0,  1,  0],\n",
       "       [ 0,  0, 47,  0,  0,  0,  0,  0,  0,  0],\n",
       "       [ 0,  0,  0, 58,  0,  0,  0,  2,  0,  2],\n",
       "       [ 0,  0,  0,  0, 54,  0,  0,  0,  0,  0],\n",
       "       [ 0,  0,  0,  0,  0, 52,  0,  0,  1,  1],\n",
       "       [ 1,  0,  0,  0,  0,  0, 51,  0,  1,  0],\n",
       "       [ 0,  0,  0,  0,  0,  0,  0, 50,  0,  0],\n",
       "       [ 0,  2,  1,  0,  0,  0,  0,  0, 58,  0],\n",
       "       [ 0,  0,  0,  0,  0,  2,  0,  0,  1, 47]], dtype=int64)"
      ]
     },
     "execution_count": 30,
     "metadata": {},
     "output_type": "execute_result"
    }
   ],
   "source": [
    "confusion_matrix(y_test, y_pred)"
   ]
  },
  {
   "cell_type": "code",
   "execution_count": 31,
   "id": "101e0983",
   "metadata": {},
   "outputs": [
    {
     "name": "stdout",
     "output_type": "stream",
     "text": [
      "              precision    recall  f1-score   support\n",
      "\n",
      "           0       0.98      1.00      0.99        43\n",
      "           1       0.97      0.97      0.97        66\n",
      "           2       0.96      1.00      0.98        47\n",
      "           3       1.00      0.94      0.97        62\n",
      "           4       1.00      1.00      1.00        54\n",
      "           5       0.96      0.96      0.96        54\n",
      "           6       1.00      0.96      0.98        53\n",
      "           7       0.96      1.00      0.98        50\n",
      "           8       0.94      0.95      0.94        61\n",
      "           9       0.94      0.94      0.94        50\n",
      "\n",
      "    accuracy                           0.97       540\n",
      "   macro avg       0.97      0.97      0.97       540\n",
      "weighted avg       0.97      0.97      0.97       540\n",
      "\n"
     ]
    }
   ],
   "source": [
    "print(classification_report(y_test, y_pred))"
   ]
  },
  {
   "cell_type": "code",
   "execution_count": null,
   "id": "19c6afa0",
   "metadata": {},
   "outputs": [],
   "source": []
  }
 ],
 "metadata": {
  "kernelspec": {
   "display_name": "Python 3 (ipykernel)",
   "language": "python",
   "name": "python3"
  },
  "language_info": {
   "codemirror_mode": {
    "name": "ipython",
    "version": 3
   },
   "file_extension": ".py",
   "mimetype": "text/x-python",
   "name": "python",
   "nbconvert_exporter": "python",
   "pygments_lexer": "ipython3",
   "version": "3.9.13"
  }
 },
 "nbformat": 4,
 "nbformat_minor": 5
}
